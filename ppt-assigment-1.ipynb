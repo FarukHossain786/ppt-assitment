{
 "cells": [
  {
   "cell_type": "markdown",
   "id": "7c978345",
   "metadata": {},
   "source": [
    "1. Given an integer array nums, move all 0's to the end of it while maintaining the relative order of the non-zero elements."
   ]
  },
  {
   "cell_type": "code",
   "execution_count": 14,
   "id": "68abac9d",
   "metadata": {},
   "outputs": [
    {
     "data": {
      "text/plain": [
       "[1, 3, 12, 0, 0]"
      ]
     },
     "execution_count": 14,
     "metadata": {},
     "output_type": "execute_result"
    }
   ],
   "source": [
    "def moveZeros(arr):\n",
    "    for i in range(len(arr)):\n",
    "        if arr[i]==0:\n",
    "            arr.remove(arr[i])\n",
    "            arr.append(0)\n",
    "    return arr\n",
    "\n",
    "arr = [0,1,0,3,12]\n",
    "moveZeros(arr)"
   ]
  },
  {
   "cell_type": "markdown",
   "id": "c3e605ed",
   "metadata": {},
   "source": [
    "2. Given a string s, find the first non-repeating character in it and return its index. If it does not exist, return -1."
   ]
  },
  {
   "cell_type": "code",
   "execution_count": 68,
   "id": "91fb1bdb",
   "metadata": {},
   "outputs": [
    {
     "data": {
      "text/plain": [
       "2"
      ]
     },
     "execution_count": 68,
     "metadata": {},
     "output_type": "execute_result"
    }
   ],
   "source": [
    "def nonReapeteChar(mystrs):\n",
    "    count= {}\n",
    "    c = 0\n",
    "    for s in mystrs:\n",
    "        if s in count:\n",
    "            count[s] += 1\n",
    "        else:\n",
    "            count[s] = 1\n",
    "            \n",
    "    for val in count:\n",
    "        if(count[val] == 1):\n",
    "            return c\n",
    "        else:\n",
    "            c +=1\n",
    "    return -1\n",
    "\n",
    "s =\"loveleetcode\"\n",
    "nonReapeteChar(s)\n"
   ]
  },
  {
   "cell_type": "code",
   "execution_count": null,
   "id": "04561051",
   "metadata": {},
   "outputs": [],
   "source": []
  }
 ],
 "metadata": {
  "kernelspec": {
   "display_name": "Python 3 (ipykernel)",
   "language": "python",
   "name": "python3"
  },
  "language_info": {
   "codemirror_mode": {
    "name": "ipython",
    "version": 3
   },
   "file_extension": ".py",
   "mimetype": "text/x-python",
   "name": "python",
   "nbconvert_exporter": "python",
   "pygments_lexer": "ipython3",
   "version": "3.9.13"
  }
 },
 "nbformat": 4,
 "nbformat_minor": 5
}
